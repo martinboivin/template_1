{
 "cells": [
  {
   "cell_type": "markdown",
   "metadata": {},
   "source": [
    "## Table des matières pour aujourd'hui\n",
    "\n",
    "<div class=\"alert alert-block alert-info\" style=\"margin-top: 20px\">\n",
    "<p>\n",
    "<li><a href=\"#ref1\">Boucle For</a></p></li>\n",
    "<li><a href=\"#ref2\">Boucle While</a></p></li>\n",
    "</p>    \n",
    "<p>\n",
    "Temps estimé: <strong>15 minutes</strong>\n",
    "</p>\n",
    "</div>\n",
    "<hr>"
   ]
  },
  {
   "cell_type": "markdown",
   "metadata": {},
   "source": [
    "<a id=\"ref1\"></a>\n",
    "<center><h2>Boucles For</h2></center>"
   ]
  },
  {
   "cell_type": "markdown",
   "metadata": {},
   "source": [
    "En Python, une boucle **for** permet d'exécuter un bloc de code de manière répétée, en parcourant les éléments d'une séquence (comme une liste, une chaîne de caractères, etc.) ou en itérant un nombre défini de fois. Elle est particulièrement utile lorsqu'on connaît le nombre d'itérations à l'avance. \n",
    "\n",
    "La boucle **for** est un outil puissant pour répéter un bloc de code en parcourant des séquences d'éléments. Elle est flexible et peut être utilisée dans de nombreuses situations, que ce soit pour travailler avec des listes, des chaînes de caractères, ou pour itérer un nombre connu de fois. "
   ]
  },
  {
   "cell_type": "code",
   "execution_count": 1,
   "metadata": {},
   "outputs": [
    {
     "name": "stdout",
     "output_type": "stream",
     "text": [
      "1982\n",
      "1980\n",
      "1973\n"
     ]
    }
   ],
   "source": [
    "dates = [1982,1980,1973]\n",
    "N=len(dates)\n",
    "\n",
    "for i in range(N):\n",
    "    print(dates[i])     "
   ]
  },
  {
   "cell_type": "code",
   "execution_count": null,
   "metadata": {},
   "outputs": [],
   "source": [
    "for i in range(0,8):\n",
    "    print(i)"
   ]
  },
  {
   "cell_type": "markdown",
   "metadata": {},
   "source": [
    "#### Write a for loop the prints out all the element between -5 and 5 using the range function."
   ]
  },
  {
   "cell_type": "markdown",
   "metadata": {},
   "source": [
    " <div align=\"right\">\n",
    "<a href=\"#q2\" class=\"btn btn-default\" data-toggle=\"collapse\">Click here for the solution</a>\n",
    "\n",
    "</div>\n",
    "<div id=\"q2\" class=\"collapse\">\n",
    "```\n",
    "for i in range(-5,6):\n",
    "    print(i)\n",
    "```\n",
    "</div>"
   ]
  },
  {
   "cell_type": "markdown",
   "metadata": {},
   "source": [
    "In Python we can directly access the elements in the list as follows: "
   ]
  },
  {
   "cell_type": "code",
   "execution_count": null,
   "metadata": {
    "collapsed": true,
    "jupyter": {
     "outputs_hidden": true
    }
   },
   "outputs": [],
   "source": [
    "for year in dates:  \n",
    "    print(year)  \n",
    " "
   ]
  },
  {
   "cell_type": "markdown",
   "metadata": {},
   "source": [
    "For each iteration, the value of the variable **years** behaves like the value of **dates[i]** in the  first example:\n"
   ]
  },
  {
   "cell_type": "markdown",
   "metadata": {},
   "source": [
    "<a ><img src = \"https://ibm.box.com/shared/static/zljq7m9stw8znv7ca2it6vkekaudfuwf.gif\" width = 1100, align = \"center\"></a>\n",
    "  <h4 align=center> Example of a for loop\n",
    "\n",
    "  </h4> "
   ]
  },
  {
   "cell_type": "markdown",
   "metadata": {},
   "source": [
    "#### Print the elements of the following list:\n",
    "**Genres=[ 'rock', 'R&B', 'Soundtrack' 'R&B', 'soul', 'pop']**\n",
    "Make sure you follow Python conventions. "
   ]
  },
  {
   "cell_type": "code",
   "execution_count": null,
   "metadata": {
    "collapsed": true,
    "jupyter": {
     "outputs_hidden": true
    }
   },
   "outputs": [],
   "source": []
  },
  {
   "cell_type": "markdown",
   "metadata": {},
   "source": [
    " <div align=\"right\">\n",
    "<a href=\"#q3\" class=\"btn btn-default\" data-toggle=\"collapse\">Click here for the solution</a>\n",
    "\n",
    "</div>\n",
    "<div id=\"q3\" class=\"collapse\">\n",
    "```\n",
    "Genres=[ 'rock', 'R&B', 'Soundtrack' 'R&B', 'soul', 'pop']\n",
    "\n",
    "for Genre in Genres:\n",
    "    print(Genre)\n",
    "```\n",
    "</div>"
   ]
  },
  {
   "cell_type": "markdown",
   "metadata": {},
   "source": [
    "We can change the elements in a list:"
   ]
  },
  {
   "cell_type": "code",
   "execution_count": null,
   "metadata": {
    "collapsed": true,
    "jupyter": {
     "outputs_hidden": true
    }
   },
   "outputs": [],
   "source": [
    "squares=['red','yellow','green','purple','blue ']\n",
    "\n",
    "for i in range(0,5):\n",
    "    print(\"Before square \",i, 'is',  squares[i])\n",
    "    \n",
    "    squares[i]='wight'\n",
    "    \n",
    "    print(\"After square \",i, 'is',  squares[i])\n",
    "    \n",
    "    \n",
    "    "
   ]
  },
  {
   "cell_type": "markdown",
   "metadata": {},
   "source": [
    "#### Write a for loop that prints out the following list: squares=['red','yellow','green','purple','blue ']:"
   ]
  },
  {
   "cell_type": "code",
   "execution_count": null,
   "metadata": {
    "collapsed": true,
    "jupyter": {
     "outputs_hidden": true
    }
   },
   "outputs": [],
   "source": []
  },
  {
   "cell_type": "markdown",
   "metadata": {},
   "source": [
    "<div align=\"right\">\n",
    "<a href=\"#q3\" class=\"btn btn-default\" data-toggle=\"collapse\">Click here for the solution</a>\n",
    "\n",
    "</div>\n",
    "<div id=\"q3\" class=\"collapse\">\n",
    "```\n",
    "squares=['red','yellow','green','purple','blue ']\n",
    "for square in squares:\n",
    "    print(square)\n",
    "```\n",
    "</div>\n",
    "\n",
    "\n"
   ]
  },
  {
   "cell_type": "markdown",
   "metadata": {},
   "source": [
    " We can access the index and the elements of a list as follows: "
   ]
  },
  {
   "cell_type": "code",
   "execution_count": null,
   "metadata": {
    "collapsed": true,
    "jupyter": {
     "outputs_hidden": true
    }
   },
   "outputs": [],
   "source": [
    "squares=['red','yellow','green','purple','blue ']\n",
    "\n",
    "for i,square in enumerate(squares):\n",
    "    print(i,square)\n",
    "    "
   ]
  },
  {
   "cell_type": "markdown",
   "metadata": {},
   "source": [
    " <a id=\"ref2\"></a>\n",
    "<center><h2>While Loops</h2></center>"
   ]
  },
  {
   "cell_type": "markdown",
   "metadata": {},
   "source": [
    "As you can see, the **for** loop is used for a controlled flow of repetition. However, what if we don't know when we want to stop the loop? What if we want to keep executing a code block until a certain condition is met? The **while** loop exists as a tool for repeated execution based on a condition. The code block will keep being executed until the given logical condition returns a **False** boolean value.\n"
   ]
  },
  {
   "cell_type": "markdown",
   "metadata": {},
   "source": [
    "Let’s say we would like to iterate through list **dates** and stop at the year 1973, then print out the number of iterations.  This can be done with the following block of code:"
   ]
  },
  {
   "cell_type": "code",
   "execution_count": null,
   "metadata": {
    "collapsed": true,
    "jupyter": {
     "outputs_hidden": true
    }
   },
   "outputs": [],
   "source": [
    "dates = [1982,1980,1973,2000]\n",
    "\n",
    "i=0;\n",
    "year=0\n",
    "while(year!=1973):\n",
    "    year=dates[i]\n",
    "    i=i+1\n",
    "    print(year)\n",
    "    \n",
    "    \n",
    "print(\"it took \", i ,\"repetitions to get out of loop\")"
   ]
  },
  {
   "cell_type": "markdown",
   "metadata": {},
   "source": [
    "A while loop iterates merely until the condition in the argument  is not  met, as shown in the following figure :"
   ]
  },
  {
   "cell_type": "markdown",
   "metadata": {},
   "source": [
    "<a ><img src = \"https://ibm.box.com/shared/static/hhe9tiskw1qqpycs4b8l2l2q58e2kn54.gif\" width = 1000, align = \"center\"></a>\n",
    "  <h4 align=center> An  Example of indices as negative numbers\n",
    "\n",
    "  </h4> "
   ]
  },
  {
   "cell_type": "markdown",
   "metadata": {},
   "source": [
    "#### Write a while loop to display the values of the Rating of an album playlist stored in the list “PlayListRatings”. If the score is less than 6, exit the loop. The list “PlayListRatings” is given by: PlayListRatings = [10,9.5,10, 8,7.5, 5,10, 10]:\n",
    "\n"
   ]
  },
  {
   "cell_type": "code",
   "execution_count": null,
   "metadata": {
    "collapsed": false,
    "jupyter": {
     "outputs_hidden": false
    }
   },
   "outputs": [],
   "source": [
    "PlayListRatings = [10,9.5,10,8,7.5,5,10,10]"
   ]
  },
  {
   "cell_type": "markdown",
   "metadata": {},
   "source": [
    "<div align=\"right\">\n",
    "<a href=\"#q8\" class=\"btn btn-default\" data-toggle=\"collapse\">Click here for the solution</a>\n",
    "\n",
    "</div>\n",
    "<div id=\"q8\" class=\"collapse\">\n",
    "```\n",
    "PlayListRatings = [10,9.5,10, 8,7.5, 5,10, 10]\n",
    "\n",
    "i = 0;\n",
    "Rating = PlayListRatings[i]\n",
    "while(Rating >= 6):\n",
    "    print(Rating)\n",
    "    i = i + 1\n",
    "    Rating = PlayListRatings[i]\n",
    "    \n",
    "\n",
    "```\n",
    "</div>"
   ]
  },
  {
   "cell_type": "markdown",
   "metadata": {},
   "source": [
    "<hr>"
   ]
  },
  {
   "cell_type": "markdown",
   "metadata": {},
   "source": [
    "#### Write a while loop to copy the strings 'orange' of the list 'squares' to the list 'new_squares'. Stop and exit the loop if the value on the list is not 'orange':"
   ]
  },
  {
   "cell_type": "code",
   "execution_count": null,
   "metadata": {
    "collapsed": true,
    "jupyter": {
     "outputs_hidden": true
    }
   },
   "outputs": [],
   "source": [
    "squares=['orange','orange','purple','blue ','orange']\n",
    "new_squares=[];\n"
   ]
  },
  {
   "cell_type": "markdown",
   "metadata": {},
   "source": [
    "<div align=\"right\">\n",
    "<a href=\"#q9\" class=\"btn btn-default\" data-toggle=\"collapse\">Click here for the solution</a>\n",
    "\n",
    "</div>\n",
    "<div id=\"q9\" class=\"collapse\">\n",
    "```\n",
    "squares=['orange','orange','purple','blue ','orange']\n",
    "new_squares=[];\n",
    "\n",
    "i=0\n",
    "while(squares[i]=='orange'):\n",
    "    \n",
    "    new_squares.append(squares[i])\n",
    "    i=i+1\n",
    "\n",
    "```\n",
    "</div>"
   ]
  },
  {
   "cell_type": "markdown",
   "metadata": {},
   "source": [
    " <a href=\"http://cocl.us/bottemNotebooksPython101Coursera\"><img src = \"https://ibm.box.com/shared/static/irypdxea2q4th88zu1o1tsd06dya10go.png\" width = 750, align = \"center\"></a>"
   ]
  },
  {
   "cell_type": "markdown",
   "metadata": {},
   "source": [
    "# About the Authors:  \n",
    "\n",
    " [Joseph Santarcangelo]( https://www.linkedin.com/in/joseph-s-50398b136/) has a PhD in Electrical Engineering, his research focused on using machine learning, signal processing, and computer vision to determine how videos impact human cognition. Joseph has been working for IBM since he completed his PhD.\n"
   ]
  },
  {
   "cell_type": "markdown",
   "metadata": {},
   "source": [
    " Copyright &copy; 2017 [cognitiveclass.ai](https:cognitiveclass.ai). This notebook and its source code are released under the terms of the [MIT License](cognitiveclass.ai)."
   ]
  }
 ],
 "metadata": {
  "kernelspec": {
   "display_name": "Python 3 (ipykernel)",
   "language": "python",
   "name": "python3"
  },
  "language_info": {
   "codemirror_mode": {
    "name": "ipython",
    "version": 3
   },
   "file_extension": ".py",
   "mimetype": "text/x-python",
   "name": "python",
   "nbconvert_exporter": "python",
   "pygments_lexer": "ipython3",
   "version": "3.10.16"
  },
  "widgets": {
   "state": {},
   "version": "1.1.2"
  }
 },
 "nbformat": 4,
 "nbformat_minor": 4
}
