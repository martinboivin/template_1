{
 "cells": [
  {
   "cell_type": "markdown",
   "metadata": {
    "jp-MarkdownHeadingCollapsed": true
   },
   "source": [
    "## Table des matières pour aujourd'hui\n",
    "\n",
    "<div class=\"alert alert-block alert-info\" style=\"margin-top: 20px\">\n",
    "<p>\n",
    "<li><a href=\"#ref1\">Boucle For</a></p></li>\n",
    "<li><a href=\"#ref2\">Boucle While</a></p></li>\n",
    "</p>    \n",
    "<p>\n",
    "Temps estimé: <strong>15 minutes</strong>\n",
    "</p>\n",
    "</div>\n",
    "<hr>"
   ]
  },
  {
   "cell_type": "markdown",
   "metadata": {},
   "source": [
    "<a id=\"ref1\"></a>\n",
    "<center><h2>Boucles For</h2></center>"
   ]
  },
  {
   "cell_type": "markdown",
   "metadata": {},
   "source": [
    "En Python, une boucle **for** permet d'exécuter un bloc de code de manière répétée, en parcourant les éléments d'une séquence (comme une liste, une chaîne de caractères, etc.) ou en itérant un nombre défini de fois. Elle est particulièrement utile lorsqu'on connaît le nombre d'itérations à l'avance. \n",
    "\n",
    "La boucle **for** est un outil puissant pour répéter un bloc de code en parcourant des séquences d'éléments. Elle est flexible et peut être utilisée dans de nombreuses situations, que ce soit pour travailler avec des listes, des chaînes de caractères, ou pour itérer un nombre connu de fois. "
   ]
  },
  {
   "cell_type": "code",
   "execution_count": 4,
   "metadata": {},
   "outputs": [
    {
     "name": "stdout",
     "output_type": "stream",
     "text": [
      "1982\n",
      "1980\n",
      "1983\n"
     ]
    }
   ],
   "source": [
    "dates = [1982,1980,1983]\n",
    "N=len(dates)\n",
    "\n",
    "for i in range(N):\n",
    "    print(dates[i])     "
   ]
  },
  {
   "cell_type": "code",
   "execution_count": 1,
   "metadata": {},
   "outputs": [
    {
     "name": "stdout",
     "output_type": "stream",
     "text": [
      "0\n",
      "1\n",
      "2\n",
      "3\n",
      "4\n",
      "5\n",
      "6\n",
      "7\n"
     ]
    }
   ],
   "source": [
    "for i in range(0,8):\n",
    "    print(i)"
   ]
  },
  {
   "cell_type": "markdown",
   "metadata": {},
   "source": [
    "#### Exercice : Écrivez ou modifiez un boucle afin d'écrire les nombres compris entre between -5 et 5 inclusivement."
   ]
  },
  {
   "cell_type": "markdown",
   "metadata": {},
   "source": [
    " <div align=\"right\">\n",
    "<a href=\"#q2\" class=\"btn btn-default\" data-toggle=\"collapse\">Cliques ici pour la solution</a>\n",
    "\n",
    "</div>\n",
    "<div id=\"q2\" class=\"collapse\">\n",
    "```\n",
    "for i in range(-5,6):\n",
    "    print(i)\n",
    "```\n",
    "</div>"
   ]
  },
  {
   "cell_type": "markdown",
   "metadata": {},
   "source": [
    " <a id=\"ref2\"></a>\n",
    "<center><h2>Boucle While</h2></center>"
   ]
  },
  {
   "cell_type": "markdown",
   "metadata": {},
   "source": [
    "En Python, la boucle **while** exécute un bloc d'instructions tant qu'une condition donnée est vraie. C'est une structure itérative qui permet de répéter un code tant qu'une condition spécifique est satisfaite, sans nécessairement connaître le nombre d'itérations à l'avance. "
   ]
  },
  {
   "cell_type": "markdown",
   "metadata": {},
   "source": [
    "Voici un exemple:"
   ]
  },
  {
   "cell_type": "code",
   "execution_count": null,
   "metadata": {},
   "outputs": [],
   "source": [
    "compteur = 0\n",
    "\n",
    "while compteur < 5:\n",
    "    print(\"Le compteur est à\", compteur)\n",
    "    compteur = compteur + 1"
   ]
  },
  {
   "cell_type": "markdown",
   "metadata": {},
   "source": [
    "#### Exercice : Écrivez une boucle qui affiche les valeurs comprises dans la liste suivante, en ordre croissant [10,9.5,10, 8,7.5, 5,10, 10]."
   ]
  },
  {
   "cell_type": "code",
   "execution_count": null,
   "metadata": {
    "collapsed": false,
    "jupyter": {
     "outputs_hidden": false
    }
   },
   "outputs": [],
   "source": []
  },
  {
   "cell_type": "markdown",
   "metadata": {},
   "source": [
    "<hr>"
   ]
  },
  {
   "cell_type": "markdown",
   "metadata": {},
   "source": [
    "#### Write a while loop to copy the strings 'orange' of the list 'squares' to the list 'new_squares'. Stop and exit the loop if the value on the list is not 'orange':"
   ]
  },
  {
   "cell_type": "code",
   "execution_count": null,
   "metadata": {},
   "outputs": [],
   "source": [
    "squares=['orange','orange','purple','blue ','orange']\n",
    "new_squares=[];\n"
   ]
  },
  {
   "cell_type": "markdown",
   "metadata": {},
   "source": [
    "<div align=\"right\">\n",
    "<a href=\"#q9\" class=\"btn btn-default\" data-toggle=\"collapse\">Cliquez ici pour afficher la solution</a>\n",
    "\n",
    "</div>\n",
    "<div id=\"q9\" class=\"collapse\">\n",
    "```\n",
    "squares=['orange','orange','purple','blue ','orange']\n",
    "new_squares=[];\n",
    "\n",
    "i=0\n",
    "while(squares[i]=='orange'):\n",
    "    \n",
    "    new_squares.append(squares[i])\n",
    "    i=i+1\n",
    "\n",
    "```\n",
    "</div>"
   ]
  }
 ],
 "metadata": {
  "kernelspec": {
   "display_name": "Python 3 (ipykernel)",
   "language": "python",
   "name": "python3"
  },
  "language_info": {
   "codemirror_mode": {
    "name": "ipython",
    "version": 3
   },
   "file_extension": ".py",
   "mimetype": "text/x-python",
   "name": "python",
   "nbconvert_exporter": "python",
   "pygments_lexer": "ipython3",
   "version": "3.10.16"
  },
  "widgets": {
   "state": {},
   "version": "1.1.2"
  }
 },
 "nbformat": 4,
 "nbformat_minor": 4
}
